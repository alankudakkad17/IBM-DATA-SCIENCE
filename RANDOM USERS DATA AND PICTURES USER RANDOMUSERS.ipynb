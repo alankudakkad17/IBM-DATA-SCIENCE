{
 "cells": [
  {
   "cell_type": "code",
   "execution_count": 1,
   "id": "806ce04f",
   "metadata": {},
   "outputs": [
    {
     "name": "stdout",
     "output_type": "stream",
     "text": [
      "Requirement already satisfied: randomuser in c:\\users\\91956\\anaconda3\\lib\\site-packages (1.6)\n"
     ]
    }
   ],
   "source": [
    "!pip install randomuser\n"
   ]
  },
  {
   "cell_type": "code",
   "execution_count": 13,
   "id": "e8ed78fb",
   "metadata": {},
   "outputs": [
    {
     "name": "stdout",
     "output_type": "stream",
     "text": [
      "               name  gender                                           PICTURE\n",
      "0       Britt Yaman  female   https://randomuser.me/api/portraits/women/6.jpg\n",
      "1     Enrique Scott    male    https://randomuser.me/api/portraits/men/23.jpg\n",
      "2        حسین نجاتی    male    https://randomuser.me/api/portraits/men/98.jpg\n",
      "3      Esma Tunçeri  female  https://randomuser.me/api/portraits/women/76.jpg\n",
      "4    Jorge Phillips    male    https://randomuser.me/api/portraits/men/93.jpg\n",
      "5    Elisa Lilleeng  female  https://randomuser.me/api/portraits/women/18.jpg\n",
      "6         Brad Holt    male    https://randomuser.me/api/portraits/men/27.jpg\n",
      "7  Teodor Rønneberg    male    https://randomuser.me/api/portraits/men/28.jpg\n",
      "8      طاها رضاییان    male    https://randomuser.me/api/portraits/men/16.jpg\n",
      "9    Margarita Hanf  female  https://randomuser.me/api/portraits/women/35.jpg\n"
     ]
    }
   ],
   "source": [
    "from randomuser import RandomUser\n",
    "import pandas as pd\n",
    "r=RandomUser()\n",
    "list=r.generate_users(10)\n",
    "User=[]\n",
    "for user in list:\n",
    "    User.append({\"name\":user.get_full_name(),\"gender\":user.get_gender(),\"PICTURE\":user.get_picture()})\n",
    "print(pd.DataFrame(User))\n",
    "\n",
    "\n",
    "\n",
    "\n",
    "\n"
   ]
  },
  {
   "cell_type": "code",
   "execution_count": null,
   "id": "7ec5ee58",
   "metadata": {},
   "outputs": [],
   "source": []
  }
 ],
 "metadata": {
  "kernelspec": {
   "display_name": "Python 3",
   "language": "python",
   "name": "python3"
  },
  "language_info": {
   "codemirror_mode": {
    "name": "ipython",
    "version": 3
   },
   "file_extension": ".py",
   "mimetype": "text/x-python",
   "name": "python",
   "nbconvert_exporter": "python",
   "pygments_lexer": "ipython3",
   "version": "3.8.8"
  }
 },
 "nbformat": 4,
 "nbformat_minor": 5
}
